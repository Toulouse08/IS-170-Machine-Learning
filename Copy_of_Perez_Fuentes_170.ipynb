{
  "nbformat": 4,
  "nbformat_minor": 0,
  "metadata": {
    "colab": {
      "provenance": [],
      "include_colab_link": true
    },
    "kernelspec": {
      "name": "python3",
      "display_name": "Python 3"
    },
    "language_info": {
      "name": "python"
    }
  },
  "cells": [
    {
      "cell_type": "markdown",
      "metadata": {
        "id": "view-in-github",
        "colab_type": "text"
      },
      "source": [
        "<a href=\"https://colab.research.google.com/github/Toulouse08/IS-170-Machine-Learning/blob/Python-and-Feat.-Eng/Copy_of_Perez_Fuentes_170.ipynb\" target=\"_parent\"><img src=\"https://colab.research.google.com/assets/colab-badge.svg\" alt=\"Open In Colab\"/></a>"
      ]
    },
    {
      "cell_type": "code",
      "execution_count": null,
      "metadata": {
        "colab": {
          "base_uri": "https://localhost:8080/",
          "height": 130
        },
        "id": "PDjwv_g7dQGZ",
        "outputId": "13d39a02-db32-40b8-dce7-8e0c3032b076"
      },
      "outputs": [
        {
          "output_type": "error",
          "ename": "SyntaxError",
          "evalue": "ignored",
          "traceback": [
            "\u001b[0;36m  File \u001b[0;32m\"<ipython-input-1-bebc91e7352b>\"\u001b[0;36m, line \u001b[0;32m1\u001b[0m\n\u001b[0;31m    //Edwin Fuentes Andres Perez\u001b[0m\n\u001b[0m    ^\u001b[0m\n\u001b[0;31mSyntaxError\u001b[0m\u001b[0;31m:\u001b[0m invalid syntax\n"
          ]
        }
      ],
      "source": [
        "//Edwin Fuentes Andres Perez"
      ]
    },
    {
      "cell_type": "code",
      "source": [
        "\n",
        "print(2+8)"
      ],
      "metadata": {
        "colab": {
          "base_uri": "https://localhost:8080/"
        },
        "id": "2wVZUiSidZej",
        "outputId": "ccf1c14f-df70-44b8-979c-2c39e04bbf4c"
      },
      "execution_count": null,
      "outputs": [
        {
          "output_type": "stream",
          "name": "stdout",
          "text": [
            "10\n"
          ]
        }
      ]
    },
    {
      "cell_type": "code",
      "source": [
        "print(85-48)"
      ],
      "metadata": {
        "colab": {
          "base_uri": "https://localhost:8080/"
        },
        "id": "HdrzDjkoddKi",
        "outputId": "95ab20ff-cecb-4ea4-c382-ef9e12b28cf9"
      },
      "execution_count": null,
      "outputs": [
        {
          "output_type": "stream",
          "name": "stdout",
          "text": [
            "37\n"
          ]
        }
      ]
    },
    {
      "cell_type": "code",
      "source": [
        "print(6*2)"
      ],
      "metadata": {
        "colab": {
          "base_uri": "https://localhost:8080/"
        },
        "id": "PBsBqwAddfUC",
        "outputId": "4feb74fd-1947-4a49-964a-3dbb6844a87c"
      },
      "execution_count": null,
      "outputs": [
        {
          "output_type": "stream",
          "name": "stdout",
          "text": [
            "12\n"
          ]
        }
      ]
    },
    {
      "cell_type": "code",
      "source": [
        "print(20/5)"
      ],
      "metadata": {
        "colab": {
          "base_uri": "https://localhost:8080/"
        },
        "id": "Fa-JlCE-dhEx",
        "outputId": "b74b3fb3-5a14-498f-cd19-d4e6d6459eb4"
      },
      "execution_count": null,
      "outputs": [
        {
          "output_type": "stream",
          "name": "stdout",
          "text": [
            "4.0\n"
          ]
        }
      ]
    },
    {
      "cell_type": "code",
      "source": [
        "print(2+7+8)"
      ],
      "metadata": {
        "colab": {
          "base_uri": "https://localhost:8080/"
        },
        "id": "J6bRprmYdidK",
        "outputId": "266296d8-9cf0-4fe7-ed55-283a7a8c99a5"
      },
      "execution_count": null,
      "outputs": [
        {
          "output_type": "stream",
          "name": "stdout",
          "text": [
            "17\n"
          ]
        }
      ]
    },
    {
      "cell_type": "code",
      "source": [
        "print(8-2*4)"
      ],
      "metadata": {
        "colab": {
          "base_uri": "https://localhost:8080/"
        },
        "id": "Qmenwkm4dlvz",
        "outputId": "dfa3c039-3bec-4a81-997b-e63b582a1db6"
      },
      "execution_count": null,
      "outputs": [
        {
          "output_type": "stream",
          "name": "stdout",
          "text": [
            "0\n"
          ]
        }
      ]
    },
    {
      "cell_type": "code",
      "source": [
        "print((7-2)*3)"
      ],
      "metadata": {
        "colab": {
          "base_uri": "https://localhost:8080/"
        },
        "id": "08EaFppsdp0a",
        "outputId": "0944ce17-24c9-496f-9d9e-9432ee3376d9"
      },
      "execution_count": null,
      "outputs": [
        {
          "output_type": "stream",
          "name": "stdout",
          "text": [
            "15\n"
          ]
        }
      ]
    },
    {
      "cell_type": "code",
      "source": [
        "print(4*4*4)\n",
        "print(4**3)"
      ],
      "metadata": {
        "colab": {
          "base_uri": "https://localhost:8080/"
        },
        "id": "tl7B4-p_duT7",
        "outputId": "f4ef7274-0cad-47e4-e575-209aec23b5fd"
      },
      "execution_count": null,
      "outputs": [
        {
          "output_type": "stream",
          "name": "stdout",
          "text": [
            "64\n",
            "64\n"
          ]
        }
      ]
    },
    {
      "cell_type": "code",
      "source": [
        "print(3*4-3)\n",
        "print((2*4)-3)\n",
        "print(15/(7-2))\n",
        "print(7+5-3)\n",
        "print((7+5)-3)\n",
        "print(7+(5-3))\n",
        "print((7*2)-(2+2))\n",
        "print((3+2)**(4-2))"
      ],
      "metadata": {
        "colab": {
          "base_uri": "https://localhost:8080/"
        },
        "id": "s_-A82XHdzWC",
        "outputId": "96c75a8d-94fb-4619-c9a6-27deb5c58ef0"
      },
      "execution_count": null,
      "outputs": [
        {
          "output_type": "stream",
          "name": "stdout",
          "text": [
            "9\n",
            "5\n",
            "3.0\n",
            "9\n",
            "9\n",
            "9\n",
            "10\n",
            "25\n"
          ]
        }
      ]
    },
    {
      "cell_type": "code",
      "source": [
        "print('8+3')"
      ],
      "metadata": {
        "colab": {
          "base_uri": "https://localhost:8080/"
        },
        "id": "CTM-jKjEeSHq",
        "outputId": "97b213b5-23a9-4388-df67-05fcfb7103b7"
      },
      "execution_count": null,
      "outputs": [
        {
          "output_type": "stream",
          "name": "stdout",
          "text": [
            "8+3\n"
          ]
        }
      ]
    },
    {
      "cell_type": "code",
      "source": [
        "print(('7+5= '), (7+5))\n",
        "print((7*8*2),('is the nswer to 7 * 8 * 2'))"
      ],
      "metadata": {
        "colab": {
          "base_uri": "https://localhost:8080/"
        },
        "id": "prPHjIJKeW_j",
        "outputId": "edbb87a9-c274-4ed9-e418-ace2b78ce2d0"
      },
      "execution_count": null,
      "outputs": [
        {
          "output_type": "stream",
          "name": "stdout",
          "text": [
            "7+5=  12\n",
            "112 is the nswer to 7 * 8 * 2\n"
          ]
        }
      ]
    },
    {
      "cell_type": "code",
      "source": [
        "year = 2021"
      ],
      "metadata": {
        "id": "-fPmB9tOen4z"
      },
      "execution_count": null,
      "outputs": []
    },
    {
      "cell_type": "code",
      "source": [
        "print(year)\n",
        "print(year+6)\n",
        "print(year-3)\n",
        "print((year-2)+10)\n",
        "print(('The current year is'),(year))\n",
        "print(('Two year from now it will be'),(year+2))\n"
      ],
      "metadata": {
        "colab": {
          "base_uri": "https://localhost:8080/"
        },
        "id": "0eNlL7HPevR6",
        "outputId": "325156a9-c8bb-4c5d-d690-7b4db151ddc5"
      },
      "execution_count": null,
      "outputs": [
        {
          "output_type": "stream",
          "name": "stdout",
          "text": [
            "2021\n",
            "2027\n",
            "2018\n",
            "2029\n",
            "The current year is 2021\n",
            "Two year from now it will be 2023\n"
          ]
        }
      ]
    },
    {
      "cell_type": "code",
      "source": [
        "year = 2021\n",
        "name = ('Fresno')\n",
        "name= ('State')"
      ],
      "metadata": {
        "id": "NTNrXTIRfQkS"
      },
      "execution_count": null,
      "outputs": []
    },
    {
      "cell_type": "code",
      "source": [
        "name= input('Please enter last name: ')"
      ],
      "metadata": {
        "colab": {
          "base_uri": "https://localhost:8080/"
        },
        "id": "egXsYYchfa77",
        "outputId": "dfbd741b-478b-4876-9c89-da51d933c271"
      },
      "execution_count": null,
      "outputs": [
        {
          "name": "stdout",
          "output_type": "stream",
          "text": [
            "Please enter last name: Perez\n"
          ]
        }
      ]
    },
    {
      "cell_type": "code",
      "source": [
        "a= 1+4\n",
        "b= 5+9\n",
        "c= a+b\n",
        "c= c+1"
      ],
      "metadata": {
        "id": "Zuv0Gr-1fkHL"
      },
      "execution_count": null,
      "outputs": []
    },
    {
      "cell_type": "code",
      "source": [
        "a= 10\n",
        "b=5\n",
        "result= a+b\n",
        "print((a), ('+'),(b),('='),(result))"
      ],
      "metadata": {
        "colab": {
          "base_uri": "https://localhost:8080/"
        },
        "id": "dPEZ374Yfuyy",
        "outputId": "861789c0-3bb6-4527-8527-c059ba33ba6e"
      },
      "execution_count": null,
      "outputs": [
        {
          "output_type": "stream",
          "name": "stdout",
          "text": [
            "10 + 5 = 15\n"
          ]
        }
      ]
    },
    {
      "cell_type": "code",
      "source": [
        "#This program displays gross pay\n",
        "#Get the number of hours worked\n",
        "hours = int(input('Enter the hours worked this week: '))\n",
        "\n",
        "\n",
        "#Get the hourly pay rate.\n",
        "pay_rate = float(input('Enter the hourly pay rate: '))\n",
        "\n",
        "#Calculate the gross pay\n",
        "gross_pay = hours * pay_rate\n",
        "\n",
        "\n",
        "#Display the gross pay\n",
        "print(f'Gross pay: ${gross_pay:,.2f}')"
      ],
      "metadata": {
        "colab": {
          "base_uri": "https://localhost:8080/"
        },
        "id": "Z3gZ5A5vgX0b",
        "outputId": "ad4a14d7-c230-428a-e0eb-f0e699d6e3c6"
      },
      "execution_count": null,
      "outputs": [
        {
          "output_type": "stream",
          "name": "stdout",
          "text": [
            "Enter the hours worked this week: 40\n",
            "Enter the hourly pay rate: 20\n",
            "Gross pay: $800.00\n"
          ]
        }
      ]
    },
    {
      "cell_type": "code",
      "source": [],
      "metadata": {
        "id": "g3MGCrRZhZ-q"
      },
      "execution_count": null,
      "outputs": []
    },
    {
      "cell_type": "code",
      "source": [
        "#This program displays gross pay\n",
        "#Get the number of hours worked\n",
        "customer_name= input(\"Please enter the worker fullname: \")\n",
        "hours = int(input('Enter the hours worked this week: '))\n",
        "\n",
        "\n",
        "#Get the hourly pay rate.\n",
        "pay_rate = float(input('Enter the hourly pay rate: '))\n",
        "\n",
        "\n",
        "#Calculate the gross pay\n",
        "gross_pay = hours * pay_rate\n",
        "\n",
        "\n",
        "#Display the gross pay\n",
        "print(f'Gross pay: ${gross_pay:,.2f}')\n",
        "\n",
        "ohours = int(input('Enter the overtime hours worked this week: '))\n",
        "opay_rate = float(input('Enter the hourly overtime pay rate: '))\n",
        "overtime_pay = ohours * opay_rate\n",
        "combined_pay = overtime_pay + gross_pay\n",
        "print((customer_name),(','),('your total gross pay is: '), f'${combined_pay:,.2f})')"
      ],
      "metadata": {
        "colab": {
          "base_uri": "https://localhost:8080/"
        },
        "id": "gGOLNFacha4a",
        "outputId": "aa0ed283-e9bc-4ed0-b7cd-0df92ba62bb3"
      },
      "execution_count": null,
      "outputs": [
        {
          "output_type": "stream",
          "name": "stdout",
          "text": [
            "Please enter the worker fullname: Edwin\n",
            "Enter the hours worked this week: 40\n",
            "Enter the hourly pay rate: 16\n",
            "Gross pay: $640.00\n",
            "Enter the overtime hours worked this week: 20\n",
            "Enter the hourly overtime pay rate: 24\n",
            "Edwin , your total gross pay is:  $1,120.00)\n"
          ]
        }
      ]
    },
    {
      "cell_type": "code",
      "source": [
        "if 10 == 10:\n",
        "  print('equal')"
      ],
      "metadata": {
        "colab": {
          "base_uri": "https://localhost:8080/"
        },
        "id": "KQVWd6yajpFa",
        "outputId": "855ebe16-38d9-4877-ac5a-f74ba17fa519"
      },
      "execution_count": null,
      "outputs": [
        {
          "output_type": "stream",
          "name": "stdout",
          "text": [
            "equal\n"
          ]
        }
      ]
    },
    {
      "cell_type": "code",
      "source": [
        "if (5*2) ==  10:\n",
        "  print('The expression is equal')\n",
        "\n",
        "if(8+3)!=10:\n",
        "  print('Not equal')\n",
        "\n",
        "if 8>5:\n",
        "  print('8 is greater than 5')\n",
        "\n",
        "if 8<5:\n",
        "  print('8 is less than 5')"
      ],
      "metadata": {
        "colab": {
          "base_uri": "https://localhost:8080/"
        },
        "id": "C_7anaKfjy5k",
        "outputId": "8dc1d63e-edac-4da1-a050-09aaa4f02766"
      },
      "execution_count": null,
      "outputs": [
        {
          "output_type": "stream",
          "name": "stdout",
          "text": [
            "The expression is equal\n",
            "Not equal\n",
            "8 is greater than 5\n"
          ]
        }
      ]
    },
    {
      "cell_type": "code",
      "source": [
        "a=6\n",
        "b=7\n",
        "c=3\n",
        "d=('Fresno')\n",
        "e=('State')\n",
        "if a==(c*2):\n",
        "  print('6=3*2')\n",
        "\n",
        "if d!=e:\n",
        "  print('The names are not the same')\n",
        "  b=9\n",
        "  print('b has been set to 9')"
      ],
      "metadata": {
        "colab": {
          "base_uri": "https://localhost:8080/"
        },
        "id": "bkpI2QMXkSsD",
        "outputId": "5270ed8a-d0ad-45d3-c506-87360e763863"
      },
      "execution_count": null,
      "outputs": [
        {
          "output_type": "stream",
          "name": "stdout",
          "text": [
            "6=3*2\n",
            "The names are not the same\n",
            "b has been set to 9\n"
          ]
        }
      ]
    },
    {
      "cell_type": "code",
      "source": [
        "a=10\n",
        "b=5\n",
        "operation = ('unkown operation')\n",
        "result =('???')\n",
        "print('Which operation should I preform + or -?')\n",
        "operation=input()\n",
        "if operation==('+'):\n",
        "  result=a+b\n",
        "if operation==('-'):\n",
        "  result=a-b\n",
        "print((a), (operation), (b), ('='), (result))"
      ],
      "metadata": {
        "colab": {
          "base_uri": "https://localhost:8080/"
        },
        "id": "9Ap8hqBpkxm6",
        "outputId": "8593ef22-7d13-484a-b436-2d8485deece7"
      },
      "execution_count": null,
      "outputs": [
        {
          "output_type": "stream",
          "name": "stdout",
          "text": [
            "Which operation should I preform + or -?\n",
            "+\n",
            "10 + 5 = 15\n"
          ]
        }
      ]
    },
    {
      "cell_type": "code",
      "source": [
        "name= input('Please enter your last name')\n",
        "print('please enter a number')\n",
        "a=eval(input())\n",
        "print('please enter antoher number')\n",
        "b=eval(input())\n",
        "operation = ('unkown operation')\n",
        "result =('???')\n",
        "print('Which operation should I preform + or - or * or / or ** ?')\n",
        "operation=input()\n",
        "if operation==('+'):\n",
        "  result=a+b\n",
        "if operation==('-'):\n",
        "  result=a-b\n",
        "if operation==('*'):\n",
        "  result= a*b\n",
        "if operation ==('/'):\n",
        "  result= a/b\n",
        "if operation ==('**'):\n",
        "  result = a**b\n",
        "print(name, 'here is your answer: ',(a), (operation), (b), ('='), (result))"
      ],
      "metadata": {
        "colab": {
          "base_uri": "https://localhost:8080/"
        },
        "id": "5Dd1GOCClhtb",
        "outputId": "d0312dc7-d514-4033-e63c-ddd24778efd1"
      },
      "execution_count": null,
      "outputs": [
        {
          "output_type": "stream",
          "name": "stdout",
          "text": [
            "Please enter your last nameChoi\n",
            "please enter a number\n",
            "73\n",
            "please enter antoher number\n",
            "56\n",
            "Which operation should I preform + or - or * or / or ** ?\n",
            "+\n",
            "Choi here is your answer:  73 + 56 = 129\n"
          ]
        }
      ]
    }
  ]
}