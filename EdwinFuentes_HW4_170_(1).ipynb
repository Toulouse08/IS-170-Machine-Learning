{
  "nbformat": 4,
  "nbformat_minor": 0,
  "metadata": {
    "colab": {
      "provenance": [],
      "include_colab_link": true
    },
    "kernelspec": {
      "name": "python3",
      "display_name": "Python 3"
    },
    "language_info": {
      "name": "python"
    }
  },
  "cells": [
    {
      "cell_type": "markdown",
      "metadata": {
        "id": "view-in-github",
        "colab_type": "text"
      },
      "source": [
        "<a href=\"https://colab.research.google.com/github/Toulouse08/IS-170-Machine-Learning/blob/K-Means-Clustering/EdwinFuentes_HW4_170_(1).ipynb\" target=\"_parent\"><img src=\"https://colab.research.google.com/assets/colab-badge.svg\" alt=\"Open In Colab\"/></a>"
      ]
    },
    {
      "cell_type": "code",
      "execution_count": null,
      "metadata": {
        "id": "gTpuGyNJzkx4"
      },
      "outputs": [],
      "source": [
        "# call the required libraries\n",
        "import numpy as np\n",
        "import pandas as pd\n",
        "import matplotlib.pyplot as plt\n",
        "from sklearn.cluster import KMeans"
      ]
    },
    {
      "cell_type": "code",
      "source": [
        "#load the data\n",
        "df=pd.read_csv(\"android-games.csv\")\n",
        "df.head()"
      ],
      "metadata": {
        "colab": {
          "base_uri": "https://localhost:8080/",
          "height": 354
        },
        "id": "UEohOlEK7f12",
        "outputId": "a4416307-dfe2-4a3d-aca6-bbf63db2f4ab"
      },
      "execution_count": null,
      "outputs": [
        {
          "output_type": "execute_result",
          "data": {
            "text/plain": [
              "   rank                                         title  total ratings installs  \\\n",
              "0     1                Garena Free Fire- World Series       86273129  500.0 M   \n",
              "1     2                        PUBG MOBILE - Traverse       37276732  500.0 M   \n",
              "2     3                     Mobile Legends: Bang Bang       26663595  100.0 M   \n",
              "3     4                                   Brawl Stars       17971552  100.0 M   \n",
              "4     5  Sniper 3D: Fun Free Online FPS Shooting Game       14464235  500.0 M   \n",
              "\n",
              "   average rating  growth (30 days)  growth (60 days)  price     category  \\\n",
              "0               4               2.1               6.9    0.0  GAME ACTION   \n",
              "1               4               1.8               3.6    0.0  GAME ACTION   \n",
              "2               4               1.5               3.2    0.0  GAME ACTION   \n",
              "3               4               1.4               4.4    0.0  GAME ACTION   \n",
              "4               4               0.8               1.5    0.0  GAME ACTION   \n",
              "\n",
              "   5 star ratings  4 star ratings  3 star ratings  2 star ratings  \\\n",
              "0        63546766         4949507         3158756         2122183   \n",
              "1        28339753         2164478         1253185          809821   \n",
              "2        18777988         1812094         1050600          713912   \n",
              "3        13018610         1552950          774012          406184   \n",
              "4         9827328         2124154         1047741          380670   \n",
              "\n",
              "   1 star ratings   paid  \n",
              "0        12495915  False  \n",
              "1         4709492  False  \n",
              "2         4308998  False  \n",
              "3         2219794  False  \n",
              "4         1084340  False  "
            ],
            "text/html": [
              "\n",
              "  <div id=\"df-677a9809-2102-4043-a178-a8c29765bea0\">\n",
              "    <div class=\"colab-df-container\">\n",
              "      <div>\n",
              "<style scoped>\n",
              "    .dataframe tbody tr th:only-of-type {\n",
              "        vertical-align: middle;\n",
              "    }\n",
              "\n",
              "    .dataframe tbody tr th {\n",
              "        vertical-align: top;\n",
              "    }\n",
              "\n",
              "    .dataframe thead th {\n",
              "        text-align: right;\n",
              "    }\n",
              "</style>\n",
              "<table border=\"1\" class=\"dataframe\">\n",
              "  <thead>\n",
              "    <tr style=\"text-align: right;\">\n",
              "      <th></th>\n",
              "      <th>rank</th>\n",
              "      <th>title</th>\n",
              "      <th>total ratings</th>\n",
              "      <th>installs</th>\n",
              "      <th>average rating</th>\n",
              "      <th>growth (30 days)</th>\n",
              "      <th>growth (60 days)</th>\n",
              "      <th>price</th>\n",
              "      <th>category</th>\n",
              "      <th>5 star ratings</th>\n",
              "      <th>4 star ratings</th>\n",
              "      <th>3 star ratings</th>\n",
              "      <th>2 star ratings</th>\n",
              "      <th>1 star ratings</th>\n",
              "      <th>paid</th>\n",
              "    </tr>\n",
              "  </thead>\n",
              "  <tbody>\n",
              "    <tr>\n",
              "      <th>0</th>\n",
              "      <td>1</td>\n",
              "      <td>Garena Free Fire- World Series</td>\n",
              "      <td>86273129</td>\n",
              "      <td>500.0 M</td>\n",
              "      <td>4</td>\n",
              "      <td>2.1</td>\n",
              "      <td>6.9</td>\n",
              "      <td>0.0</td>\n",
              "      <td>GAME ACTION</td>\n",
              "      <td>63546766</td>\n",
              "      <td>4949507</td>\n",
              "      <td>3158756</td>\n",
              "      <td>2122183</td>\n",
              "      <td>12495915</td>\n",
              "      <td>False</td>\n",
              "    </tr>\n",
              "    <tr>\n",
              "      <th>1</th>\n",
              "      <td>2</td>\n",
              "      <td>PUBG MOBILE - Traverse</td>\n",
              "      <td>37276732</td>\n",
              "      <td>500.0 M</td>\n",
              "      <td>4</td>\n",
              "      <td>1.8</td>\n",
              "      <td>3.6</td>\n",
              "      <td>0.0</td>\n",
              "      <td>GAME ACTION</td>\n",
              "      <td>28339753</td>\n",
              "      <td>2164478</td>\n",
              "      <td>1253185</td>\n",
              "      <td>809821</td>\n",
              "      <td>4709492</td>\n",
              "      <td>False</td>\n",
              "    </tr>\n",
              "    <tr>\n",
              "      <th>2</th>\n",
              "      <td>3</td>\n",
              "      <td>Mobile Legends: Bang Bang</td>\n",
              "      <td>26663595</td>\n",
              "      <td>100.0 M</td>\n",
              "      <td>4</td>\n",
              "      <td>1.5</td>\n",
              "      <td>3.2</td>\n",
              "      <td>0.0</td>\n",
              "      <td>GAME ACTION</td>\n",
              "      <td>18777988</td>\n",
              "      <td>1812094</td>\n",
              "      <td>1050600</td>\n",
              "      <td>713912</td>\n",
              "      <td>4308998</td>\n",
              "      <td>False</td>\n",
              "    </tr>\n",
              "    <tr>\n",
              "      <th>3</th>\n",
              "      <td>4</td>\n",
              "      <td>Brawl Stars</td>\n",
              "      <td>17971552</td>\n",
              "      <td>100.0 M</td>\n",
              "      <td>4</td>\n",
              "      <td>1.4</td>\n",
              "      <td>4.4</td>\n",
              "      <td>0.0</td>\n",
              "      <td>GAME ACTION</td>\n",
              "      <td>13018610</td>\n",
              "      <td>1552950</td>\n",
              "      <td>774012</td>\n",
              "      <td>406184</td>\n",
              "      <td>2219794</td>\n",
              "      <td>False</td>\n",
              "    </tr>\n",
              "    <tr>\n",
              "      <th>4</th>\n",
              "      <td>5</td>\n",
              "      <td>Sniper 3D: Fun Free Online FPS Shooting Game</td>\n",
              "      <td>14464235</td>\n",
              "      <td>500.0 M</td>\n",
              "      <td>4</td>\n",
              "      <td>0.8</td>\n",
              "      <td>1.5</td>\n",
              "      <td>0.0</td>\n",
              "      <td>GAME ACTION</td>\n",
              "      <td>9827328</td>\n",
              "      <td>2124154</td>\n",
              "      <td>1047741</td>\n",
              "      <td>380670</td>\n",
              "      <td>1084340</td>\n",
              "      <td>False</td>\n",
              "    </tr>\n",
              "  </tbody>\n",
              "</table>\n",
              "</div>\n",
              "      <button class=\"colab-df-convert\" onclick=\"convertToInteractive('df-677a9809-2102-4043-a178-a8c29765bea0')\"\n",
              "              title=\"Convert this dataframe to an interactive table.\"\n",
              "              style=\"display:none;\">\n",
              "        \n",
              "  <svg xmlns=\"http://www.w3.org/2000/svg\" height=\"24px\"viewBox=\"0 0 24 24\"\n",
              "       width=\"24px\">\n",
              "    <path d=\"M0 0h24v24H0V0z\" fill=\"none\"/>\n",
              "    <path d=\"M18.56 5.44l.94 2.06.94-2.06 2.06-.94-2.06-.94-.94-2.06-.94 2.06-2.06.94zm-11 1L8.5 8.5l.94-2.06 2.06-.94-2.06-.94L8.5 2.5l-.94 2.06-2.06.94zm10 10l.94 2.06.94-2.06 2.06-.94-2.06-.94-.94-2.06-.94 2.06-2.06.94z\"/><path d=\"M17.41 7.96l-1.37-1.37c-.4-.4-.92-.59-1.43-.59-.52 0-1.04.2-1.43.59L10.3 9.45l-7.72 7.72c-.78.78-.78 2.05 0 2.83L4 21.41c.39.39.9.59 1.41.59.51 0 1.02-.2 1.41-.59l7.78-7.78 2.81-2.81c.8-.78.8-2.07 0-2.86zM5.41 20L4 18.59l7.72-7.72 1.47 1.35L5.41 20z\"/>\n",
              "  </svg>\n",
              "      </button>\n",
              "      \n",
              "  <style>\n",
              "    .colab-df-container {\n",
              "      display:flex;\n",
              "      flex-wrap:wrap;\n",
              "      gap: 12px;\n",
              "    }\n",
              "\n",
              "    .colab-df-convert {\n",
              "      background-color: #E8F0FE;\n",
              "      border: none;\n",
              "      border-radius: 50%;\n",
              "      cursor: pointer;\n",
              "      display: none;\n",
              "      fill: #1967D2;\n",
              "      height: 32px;\n",
              "      padding: 0 0 0 0;\n",
              "      width: 32px;\n",
              "    }\n",
              "\n",
              "    .colab-df-convert:hover {\n",
              "      background-color: #E2EBFA;\n",
              "      box-shadow: 0px 1px 2px rgba(60, 64, 67, 0.3), 0px 1px 3px 1px rgba(60, 64, 67, 0.15);\n",
              "      fill: #174EA6;\n",
              "    }\n",
              "\n",
              "    [theme=dark] .colab-df-convert {\n",
              "      background-color: #3B4455;\n",
              "      fill: #D2E3FC;\n",
              "    }\n",
              "\n",
              "    [theme=dark] .colab-df-convert:hover {\n",
              "      background-color: #434B5C;\n",
              "      box-shadow: 0px 1px 3px 1px rgba(0, 0, 0, 0.15);\n",
              "      filter: drop-shadow(0px 1px 2px rgba(0, 0, 0, 0.3));\n",
              "      fill: #FFFFFF;\n",
              "    }\n",
              "  </style>\n",
              "\n",
              "      <script>\n",
              "        const buttonEl =\n",
              "          document.querySelector('#df-677a9809-2102-4043-a178-a8c29765bea0 button.colab-df-convert');\n",
              "        buttonEl.style.display =\n",
              "          google.colab.kernel.accessAllowed ? 'block' : 'none';\n",
              "\n",
              "        async function convertToInteractive(key) {\n",
              "          const element = document.querySelector('#df-677a9809-2102-4043-a178-a8c29765bea0');\n",
              "          const dataTable =\n",
              "            await google.colab.kernel.invokeFunction('convertToInteractive',\n",
              "                                                     [key], {});\n",
              "          if (!dataTable) return;\n",
              "\n",
              "          const docLinkHtml = 'Like what you see? Visit the ' +\n",
              "            '<a target=\"_blank\" href=https://colab.research.google.com/notebooks/data_table.ipynb>data table notebook</a>'\n",
              "            + ' to learn more about interactive tables.';\n",
              "          element.innerHTML = '';\n",
              "          dataTable['output_type'] = 'display_data';\n",
              "          await google.colab.output.renderOutput(dataTable, element);\n",
              "          const docLink = document.createElement('div');\n",
              "          docLink.innerHTML = docLinkHtml;\n",
              "          element.appendChild(docLink);\n",
              "        }\n",
              "      </script>\n",
              "    </div>\n",
              "  </div>\n",
              "  "
            ]
          },
          "metadata": {},
          "execution_count": 36
        }
      ]
    },
    {
      "cell_type": "code",
      "source": [
        "df.info()"
      ],
      "metadata": {
        "colab": {
          "base_uri": "https://localhost:8080/"
        },
        "id": "RGscIRcw7m8e",
        "outputId": "3fe6f424-7520-4cbf-8266-b97727e74680"
      },
      "execution_count": null,
      "outputs": [
        {
          "output_type": "stream",
          "name": "stdout",
          "text": [
            "<class 'pandas.core.frame.DataFrame'>\n",
            "RangeIndex: 1730 entries, 0 to 1729\n",
            "Data columns (total 15 columns):\n",
            " #   Column            Non-Null Count  Dtype  \n",
            "---  ------            --------------  -----  \n",
            " 0   rank              1730 non-null   int64  \n",
            " 1   title             1730 non-null   object \n",
            " 2   total ratings     1730 non-null   int64  \n",
            " 3   installs          1730 non-null   object \n",
            " 4   average rating    1730 non-null   int64  \n",
            " 5   growth (30 days)  1730 non-null   float64\n",
            " 6   growth (60 days)  1730 non-null   float64\n",
            " 7   price             1730 non-null   float64\n",
            " 8   category          1730 non-null   object \n",
            " 9   5 star ratings    1730 non-null   int64  \n",
            " 10  4 star ratings    1730 non-null   int64  \n",
            " 11  3 star ratings    1730 non-null   int64  \n",
            " 12  2 star ratings    1730 non-null   int64  \n",
            " 13  1 star ratings    1730 non-null   int64  \n",
            " 14  paid              1730 non-null   bool   \n",
            "dtypes: bool(1), float64(3), int64(8), object(3)\n",
            "memory usage: 191.0+ KB\n"
          ]
        }
      ]
    },
    {
      "cell_type": "code",
      "source": [
        "print(df.shape)"
      ],
      "metadata": {
        "colab": {
          "base_uri": "https://localhost:8080/"
        },
        "id": "O8KYZdXv7y7t",
        "outputId": "e74a3eb0-93f0-4c97-e5b5-1356b63b5424"
      },
      "execution_count": null,
      "outputs": [
        {
          "output_type": "stream",
          "name": "stdout",
          "text": [
            "(1730, 15)\n"
          ]
        }
      ]
    },
    {
      "cell_type": "code",
      "source": [
        "#do a scatter plot with the red dots size 18\n",
        "#from the data, x column values and y column values \n",
        "plt.scatter(df['5 star ratings'],df['4 star ratings'], c='red', s=15) \n",
        "plt.xlabel(\"5 star ratings\")\n",
        "plt.ylabel(\"4 star ratings\")"
      ],
      "metadata": {
        "colab": {
          "base_uri": "https://localhost:8080/",
          "height": 307
        },
        "id": "0ot9eb588S-N",
        "outputId": "04404433-acad-4d79-e335-f93e578f5219"
      },
      "execution_count": null,
      "outputs": [
        {
          "output_type": "execute_result",
          "data": {
            "text/plain": [
              "Text(0, 0.5, '4 star ratings')"
            ]
          },
          "metadata": {},
          "execution_count": 116
        },
        {
          "output_type": "display_data",
          "data": {
            "text/plain": [
              "<Figure size 432x288 with 1 Axes>"
            ],
            "image/png": "[encoded data removed]"
          },
          "metadata": {
            "needs_background": "light"
          }
        }
      ]
    },
    {
      "cell_type": "code",
      "source": [
        "#for now, we say k is 2 (obvious from the above plot)\n",
        "#k is the number of clusters that you want\n",
        "#the search for optimal k value is addressed at the end of this algorithm\n",
        "k=2"
      ],
      "metadata": {
        "id": "zPqZG3OIgVtV"
      },
      "execution_count": null,
      "outputs": []
    },
    {
      "cell_type": "code",
      "source": [
        "#create a matrix containing all points\n",
        "X=np.array(list(zip(df['5 star ratings'],df['4 star ratings'])))"
      ],
      "metadata": {
        "id": "_apYYCSwbAcY"
      },
      "execution_count": null,
      "outputs": []
    },
    {
      "cell_type": "code",
      "source": [
        "model=KMeans(n_clusters=k)"
      ],
      "metadata": {
        "id": "Zr_-UZoDk0vx"
      },
      "execution_count": null,
      "outputs": []
    },
    {
      "cell_type": "code",
      "source": [
        "#train the model using the fit() function\n",
        "kmeans=model.fit(X)"
      ],
      "metadata": {
        "id": "c11XotRSaeFa"
      },
      "execution_count": null,
      "outputs": []
    },
    {
      "cell_type": "code",
      "source": [
        "#To assign a label to all of the points, use the predict() function\n",
        "labels=model.predict(X)"
      ],
      "metadata": {
        "id": "Nff8rDzZbRPU"
      },
      "execution_count": null,
      "outputs": []
    },
    {
      "cell_type": "code",
      "source": [
        "#To get the centroids, use the cluster_centers property:\n",
        "centroids=model.cluster_centers_"
      ],
      "metadata": {
        "id": "2AWVNwM8bXPg"
      },
      "execution_count": null,
      "outputs": []
    },
    {
      "cell_type": "code",
      "source": [
        "#Print the clusters' labels and centroids\n",
        "print(labels)\n",
        "print(centroids)"
      ],
      "metadata": {
        "colab": {
          "base_uri": "https://localhost:8080/"
        },
        "id": "izcfcTBhbcF3",
        "outputId": "7de710b6-1dc7-4a3f-b974-46b94eca5a81"
      },
      "execution_count": null,
      "outputs": [
        {
          "output_type": "stream",
          "name": "stdout",
          "text": [
            "[1 1 1 ... 0 0 0]\n",
            "[[  615752.06217315    99785.15688553]\n",
            " [28772349.66666667  3300559.        ]]\n"
          ]
        }
      ]
    },
    {
      "cell_type": "code",
      "source": [
        "#Plot the points and centroids on a scatter plot\n",
        "#map the labels to colors\n",
        "c=['green','red','yellow','blue']\n",
        "colors=[c[i] for i in labels]\n",
        "\n",
        "plt.scatter(df['5 star ratings'],df['4 star ratings'],c=colors, s=18)\n",
        "plt.scatter(centroids[:,0], centroids[:,1], marker='*', s=100, c='black')"
      ],
      "metadata": {
        "colab": {
          "base_uri": "https://localhost:8080/",
          "height": 306
        },
        "id": "qMCyX1-9bhWw",
        "outputId": "f7b4f747-77ff-4c05-e462-e261ac26fe3a"
      },
      "execution_count": null,
      "outputs": [
        {
          "output_type": "execute_result",
          "data": {
            "text/plain": [
              "<matplotlib.collections.PathCollection at 0x7f137d40f400>"
            ]
          },
          "metadata": {},
          "execution_count": 124
        },
        {
          "output_type": "display_data",
          "data": {
            "text/plain": [
              "<Figure size 432x288 with 1 Axes>"
            ],
            "image/png": "[encoded data removed]"
          },
          "metadata": {
            "needs_background": "light"
          }
        }
      ]
    },
    {
      "cell_type": "code",
      "source": [
        "#Using the model that you have just trained,  \n",
        "#you can use it to predict what cluster for any point \n",
        "\n",
        "#making preductions\n",
        "cluster=model.predict([[92222229999,6666666663]])[0]\n",
        "print(c[cluster]) \n",
        "\n",
        "cluster=model.predict([[5,5]])[0]\n",
        "print(c[cluster]) \n",
        "\n",
        "cluster=model.predict([[4546654654654,313213139]])[0]\n",
        "print(c[cluster])\n"
      ],
      "metadata": {
        "colab": {
          "base_uri": "https://localhost:8080/"
        },
        "id": "EtKb5RvHcE4D",
        "outputId": "3da958c1-db99-47f0-97c4-61d9e7fe8d7c"
      },
      "execution_count": null,
      "outputs": [
        {
          "output_type": "stream",
          "name": "stdout",
          "text": [
            "red\n",
            "green\n",
            "red\n"
          ]
        }
      ]
    },
    {
      "cell_type": "code",
      "source": [
        "k=4\n",
        "X=np.array(list(zip(df['5 star ratings'],df['4 star ratings'])))\n",
        "\n",
        "kmeans=KMeans(n_clusters=k)\n",
        "kmeans=kmeans.fit(X)\n",
        "labels=kmeans.predict(X)\n",
        "centroids=kmeans.cluster_centers_\n",
        "\n",
        "#map the labels to colors\n",
        "c=['b','r','y','g','c','m']\n",
        "colors=[c[i] for i in labels]\n",
        "\n",
        "plt.scatter(df['5 star ratings'],df['4 star ratings'],c=colors,s=2)\n",
        "plt.scatter(centroids[:,0],centroids[:,1],marker='*',s=100,c='black')\n",
        "\n",
        "print(centroids)"
      ],
      "metadata": {
        "colab": {
          "base_uri": "https://localhost:8080/",
          "height": 358
        },
        "id": "ckzMaNt2HNyU",
        "outputId": "5c57e4bb-94f7-4cab-97fb-519212d26485"
      },
      "execution_count": null,
      "outputs": [
        {
          "output_type": "stream",
          "name": "stdout",
          "text": [
            "[[  443046.17048193    74059.3186747 ]\n",
            " [53446447.          5177236.5       ]\n",
            " [ 5315617.31147541   799865.34426229]\n",
            " [21722607.57142857  2764365.42857143]]\n"
          ]
        },
        {
          "output_type": "display_data",
          "data": {
            "text/plain": [
              "<Figure size 432x288 with 1 Axes>"
            ],
            "image/png": "[encoded data removed]"
          },
          "metadata": {
            "needs_background": "light"
          }
        }
      ]
    },
    {
      "cell_type": "code",
      "source": [
        "#Using the model that you have just trained,  \n",
        "#you can use it to predict what cluster for any point \n",
        "\n",
        "#making preductions\n",
        "cluster=model.predict([[1000,1666]])[0]\n",
        "print(c[cluster]) \n",
        "\n",
        "cluster=model.predict([[5,5]])[0]\n",
        "print(c[cluster]) \n",
        "\n",
        "cluster=model.predict([[4546654654654,313213139]])[0]\n",
        "print(c[cluster])\n"
      ],
      "metadata": {
        "colab": {
          "base_uri": "https://localhost:8080/"
        },
        "id": "lqk2zHbuIFOk",
        "outputId": "841ca675-ffb1-40b6-e38e-c116dbe25257"
      },
      "execution_count": null,
      "outputs": [
        {
          "output_type": "stream",
          "name": "stdout",
          "text": [
            "b\n",
            "b\n",
            "r\n"
          ]
        }
      ]
    }
  ]
}