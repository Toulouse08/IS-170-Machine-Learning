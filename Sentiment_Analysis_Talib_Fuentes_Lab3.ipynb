{
  "nbformat": 4,
  "nbformat_minor": 0,
  "metadata": {
    "colab": {
      "provenance": [],
      "include_colab_link": true
    },
    "kernelspec": {
      "name": "python3",
      "display_name": "Python 3"
    },
    "language_info": {
      "name": "python"
    }
  },
  "cells": [
    {
      "cell_type": "markdown",
      "metadata": {
        "id": "view-in-github",
        "colab_type": "text"
      },
      "source": [
        "<a href=\"https://colab.research.google.com/github/Toulouse08/IS-170-Machine-Learning/blob/Text-mining-%26-NLP/Sentiment_Analysis_Talib_Fuentes_Lab3.ipynb\" target=\"_parent\"><img src=\"https://colab.research.google.com/assets/colab-badge.svg\" alt=\"Open In Colab\"/></a>"
      ]
    },
    {
      "cell_type": "markdown",
      "source": [
        "# **Sentiment Analysis=Talib,Fuentes**"
      ],
      "metadata": {
        "id": "C0IIuctoqT8M"
      }
    },
    {
      "cell_type": "code",
      "source": [
        "import nltk\n",
        "nltk.download('punkt')"
      ],
      "metadata": {
        "colab": {
          "base_uri": "https://localhost:8080/"
        },
        "id": "mA2S1_6xq3db",
        "outputId": "a38ae240-71d4-420d-99db-d96aa4af9200"
      },
      "execution_count": null,
      "outputs": [
        {
          "output_type": "stream",
          "name": "stderr",
          "text": [
            "[nltk_data] Downloading package punkt to /root/nltk_data...\n",
            "[nltk_data]   Unzipping tokenizers/punkt.zip.\n"
          ]
        },
        {
          "output_type": "execute_result",
          "data": {
            "text/plain": [
              "True"
            ]
          },
          "metadata": {},
          "execution_count": 1
        }
      ]
    },
    {
      "cell_type": "code",
      "source": [
        "!pip install Textblob # installing required dependcy needed for function"
      ],
      "metadata": {
        "colab": {
          "base_uri": "https://localhost:8080/"
        },
        "id": "EJXiQAWorACe",
        "outputId": "453f65fe-988b-484b-f241-bd59a914e580"
      },
      "execution_count": null,
      "outputs": [
        {
          "output_type": "stream",
          "name": "stdout",
          "text": [
            "Looking in indexes: https://pypi.org/simple, https://us-python.pkg.dev/colab-wheels/public/simple/\n",
            "Requirement already satisfied: Textblob in /usr/local/lib/python3.8/dist-packages (0.15.3)\n",
            "Requirement already satisfied: nltk>=3.1 in /usr/local/lib/python3.8/dist-packages (from Textblob) (3.7)\n",
            "Requirement already satisfied: joblib in /usr/local/lib/python3.8/dist-packages (from nltk>=3.1->Textblob) (1.2.0)\n",
            "Requirement already satisfied: tqdm in /usr/local/lib/python3.8/dist-packages (from nltk>=3.1->Textblob) (4.64.1)\n",
            "Requirement already satisfied: click in /usr/local/lib/python3.8/dist-packages (from nltk>=3.1->Textblob) (7.1.2)\n",
            "Requirement already satisfied: regex>=2021.8.3 in /usr/local/lib/python3.8/dist-packages (from nltk>=3.1->Textblob) (2022.6.2)\n"
          ]
        }
      ]
    },
    {
      "cell_type": "code",
      "source": [
        "!pip install vaderSentiment"
      ],
      "metadata": {
        "colab": {
          "base_uri": "https://localhost:8080/"
        },
        "id": "tj6br0wirEyu",
        "outputId": "3f6938d2-95ef-4144-9664-5febbf567035"
      },
      "execution_count": null,
      "outputs": [
        {
          "output_type": "stream",
          "name": "stdout",
          "text": [
            "Looking in indexes: https://pypi.org/simple, https://us-python.pkg.dev/colab-wheels/public/simple/\n",
            "Collecting vaderSentiment\n",
            "  Downloading vaderSentiment-3.3.2-py2.py3-none-any.whl (125 kB)\n",
            "\u001b[2K     \u001b[90m━━━━━━━━━━━━━━━━━━━━━━━━━━━━━━━━━━━━━━━\u001b[0m \u001b[32m126.0/126.0 KB\u001b[0m \u001b[31m3.6 MB/s\u001b[0m eta \u001b[36m0:00:00\u001b[0m\n",
            "\u001b[?25hRequirement already satisfied: requests in /usr/local/lib/python3.8/dist-packages (from vaderSentiment) (2.25.1)\n",
            "Requirement already satisfied: chardet<5,>=3.0.2 in /usr/local/lib/python3.8/dist-packages (from requests->vaderSentiment) (4.0.0)\n",
            "Requirement already satisfied: certifi>=2017.4.17 in /usr/local/lib/python3.8/dist-packages (from requests->vaderSentiment) (2022.12.7)\n",
            "Requirement already satisfied: urllib3<1.27,>=1.21.1 in /usr/local/lib/python3.8/dist-packages (from requests->vaderSentiment) (1.24.3)\n",
            "Requirement already satisfied: idna<3,>=2.5 in /usr/local/lib/python3.8/dist-packages (from requests->vaderSentiment) (2.10)\n",
            "Installing collected packages: vaderSentiment\n",
            "Successfully installed vaderSentiment-3.3.2\n"
          ]
        }
      ]
    },
    {
      "cell_type": "code",
      "source": [
        "from vaderSentiment.vaderSentiment import SentimentIntensityAnalyzer\n",
        "analyser=SentimentIntensityAnalyzer()"
      ],
      "metadata": {
        "id": "TwB-caDMrUNQ"
      },
      "execution_count": null,
      "outputs": []
    },
    {
      "cell_type": "code",
      "source": [
        "def sentiment_analyzer_scores(sentence):\n",
        "  score=analyser.polarity_scores(sentence)\n",
        "  print(\"{:-<40}{}\".format(sentence,str(score)))\n",
        "\n",
        "print(sentiment_analyzer_scores('I am so sad that we may not be able to finish this assignment on time!'))\n",
        "\n"
      ],
      "metadata": {
        "colab": {
          "base_uri": "https://localhost:8080/"
        },
        "id": "b1-MPS6srsCU",
        "outputId": "034c956d-8cf2-4a93-fe6c-64a9ce0ad391"
      },
      "execution_count": null,
      "outputs": [
        {
          "output_type": "stream",
          "name": "stdout",
          "text": [
            "I am so sad that we may not be able to finish this assignment on time!{'neg': 0.222, 'neu': 0.778, 'pos': 0.0, 'compound': -0.6466}\n",
            "None\n"
          ]
        }
      ]
    },
    {
      "cell_type": "code",
      "source": [
        "print(sentiment_analyzer_scores(\"I am so sad that we may not be able to finish this assignment on time!\"))\n",
        "print(sentiment_analyzer_scores(\"I am so sad that we may not be able to finish this assignment on time!!\"))\n",
        "print(sentiment_analyzer_scores(\"I am so sad that we may not be able to finish this assignment on time!!!\"))\n",
        "print(sentiment_analyzer_scores(\"I am so sad that we may not be able to finish this assignment on time!!!!\"))"
      ],
      "metadata": {
        "colab": {
          "base_uri": "https://localhost:8080/"
        },
        "id": "3x88ovmRtFCz",
        "outputId": "9d4a925c-8e94-49ee-bf86-019b89d915a6"
      },
      "execution_count": null,
      "outputs": [
        {
          "output_type": "stream",
          "name": "stdout",
          "text": [
            "I am so sad that we may not be able to finish this assignment on time!{'neg': 0.222, 'neu': 0.778, 'pos': 0.0, 'compound': -0.6466}\n",
            "None\n",
            "I am so sad that we may not be able to finish this assignment on time!!{'neg': 0.234, 'neu': 0.766, 'pos': 0.0, 'compound': -0.6783}\n",
            "None\n",
            "I am so sad that we may not be able to finish this assignment on time!!!{'neg': 0.245, 'neu': 0.755, 'pos': 0.0, 'compound': -0.7066}\n",
            "None\n",
            "I am so sad that we may not be able to finish this assignment on time!!!!{'neg': 0.256, 'neu': 0.744, 'pos': 0.0, 'compound': -0.7318}\n",
            "None\n"
          ]
        }
      ]
    },
    {
      "cell_type": "code",
      "source": [
        "print(sentiment_analyzer_scores(\"Mr.Choi is cool!\"))\n",
        "print(sentiment_analyzer_scores(\"Mr.Choi is marginally cool!\"))\n",
        "print(sentiment_analyzer_scores(\"Mr.Choi is extremely cool!\"))"
      ],
      "metadata": {
        "colab": {
          "base_uri": "https://localhost:8080/"
        },
        "id": "LJpMRRoEvUIy",
        "outputId": "f939f8df-dfc1-46a6-aaad-cfdc98782084"
      },
      "execution_count": null,
      "outputs": [
        {
          "output_type": "stream",
          "name": "stdout",
          "text": [
            "Mr.Choi is cool!------------------------{'neg': 0.0, 'neu': 0.436, 'pos': 0.564, 'compound': 0.3802}\n",
            "None\n",
            "Mr.Choi is marginally cool!-------------{'neg': 0.0, 'neu': 0.566, 'pos': 0.434, 'compound': 0.318}\n",
            "None\n",
            "Mr.Choi is extremely cool!--------------{'neg': 0.0, 'neu': 0.51, 'pos': 0.49, 'compound': 0.4376}\n",
            "None\n"
          ]
        }
      ]
    },
    {
      "cell_type": "code",
      "source": [
        "from vaderSentiment.vaderSentiment import SentimentIntensityAnalyzer\n",
        "analyser=SentimentIntensityAnalyzer()\n",
        "sentence=['I really enjoy the way this class is led,however i wish the chairs are better']\n",
        "score=analyser.polarity_scores(sentence)\n",
        "def sentiment_analyzer_scores(sentence):\n",
        " print(\"{:-<40}{}\".format(sentence,str(score)))\n",
        "print(sentiment_analyzer_scores(\"I really enjoy the way this class is led,however i wish the chairs are better\"))"
      ],
      "metadata": {
        "colab": {
          "base_uri": "https://localhost:8080/"
        },
        "id": "UhB4qW73viSp",
        "outputId": "6d932a0c-a1a2-41f2-fd60-4e56c99fb807"
      },
      "execution_count": null,
      "outputs": [
        {
          "output_type": "stream",
          "name": "stdout",
          "text": [
            "I really enjoy the way this class is led,however i wish the chairs are better{'neg': 0.0, 'neu': 0.569, 'pos': 0.431, 'compound': 0.8439}\n",
            "None\n"
          ]
        }
      ]
    }
  ]
}